{
 "cells": [
  {
   "cell_type": "markdown",
   "metadata": {},
   "source": [
    "# Wrangle OpenStreetMap Data"
   ]
  },
  {
   "cell_type": "markdown",
   "metadata": {},
   "source": [
    "This Data Wrangling project based on Open Street Map Data was a great pleasure, most importantly because I could choose any area on the world map. I chose the area where I grew up!\n",
    "I enjoyed going back in time during the wrangling processes of gathering, extracting, cleaning and storing the data."
   ]
  },
  {
   "cell_type": "markdown",
   "metadata": {},
   "source": [
    "I was able to download my area of interest in an XML format, which by itself is human readable. My excitement was beyond words, while exploring the contents. "
   ]
  },
  {
   "cell_type": "markdown",
   "metadata": {},
   "source": [
    "Excitement aside, I could see the inconsistencies in many entries. My goal was to audit the available data, correct as much as I could and convert the data into csv files. Then only could I easily query my database."
   ]
  },
  {
   "cell_type": "markdown",
   "metadata": {},
   "source": [
    "The file I had downloaded was large in size. Taking a sample of it would make my programs run faster. So I used the program that was supplied with the project instructions for taking a sample. That is when I realized that I was working with Python 3 and most of the programs I had been using while learning and also for the sampling were in Python 2. I wanted to stick to Python 3, so I had to modify the programs in many places. I am glad I spent some time learning the new syntax."
   ]
  },
  {
   "cell_type": "markdown",
   "metadata": {},
   "source": [
    "###### Version Control:"
   ]
  },
  {
   "cell_type": "markdown",
   "metadata": {},
   "source": [
    "I realized the importance of Version Control while doing this project. I have just started to look into the extracurricular course about \"Git\". So I am not yet able to apply it. But I found myself saving different copies of my work, just because I did not want to lose anything that I had worked on. Later I had to edit and edit again."
   ]
  },
  {
   "cell_type": "markdown",
   "metadata": {},
   "source": [
    "###### Auditing:"
   ]
  },
  {
   "cell_type": "markdown",
   "metadata": {},
   "source": [
    "During the Auditing, I wrote a code that showed me all the unique keys and their values. I looked at each key in detail at https://taginfo.openstreetmap.org/keys. This helped me get a good grip on the available data. \n",
    "\n",
    "I found out all the tag names and their count in my OSM File. \n",
    "\n",
    "I categorized the \"k\" attributes in my file which helped me later when it was time to convert them into tabular format. I used iterparse to iteratively step through each top level element in the XML."
   ]
  },
  {
   "cell_type": "markdown",
   "metadata": {},
   "source": [
    "###### Cleaning:"
   ]
  },
  {
   "cell_type": "markdown",
   "metadata": {},
   "source": [
    "After auditing, my next step was to prepare the data to be inserted into a SQL database. "
   ]
  },
  {
   "cell_type": "markdown",
   "metadata": {},
   "source": [
    "I saw inconsistencies in City Names, Street Names, postcodes, etc.\n",
    "\n",
    "...In order to correct the Street Names, I used regular expressions matching operations, from Python \"re\" module. I also used list comprehension, a powerful feature of Python and corrected many of the Street Names programmatically. \n",
    "\n",
    "...To correct most of the City Names, I again used list comprehension, by mapping a list of incorrect city names to a list of corrected city names. \n",
    "\n",
    "...When correcting postcodes and phone numbers I found it efficient to write a function that applied to both. \n",
    "\n",
    "......I applied the function to certain postcodes like \"400 078\", \"400 601\" and removed the empty space within them.\n",
    "\n",
    "......I applied the function to certain phone numbers like \"022 2769 4535\", \"022-3988-3988\" and removed the empty space or \"-\" within them."
   ]
  },
  {
   "cell_type": "markdown",
   "metadata": {},
   "source": [
    "Some keys like \"Golden Park\", \"maneshi dham\" and \"mangeshi dham\" caught my attention. After looking into their taginfo, I learned that these are not used anywhere else in the OSM data. They were considered as having problem characters and did not get included in the csv files."
   ]
  },
  {
   "cell_type": "markdown",
   "metadata": {},
   "source": [
    "I changed a \"k\" value from \"addr:place\" to \"addr:city\"."
   ]
  },
  {
   "cell_type": "markdown",
   "metadata": {},
   "source": [
    "###### Shaping:"
   ]
  },
  {
   "cell_type": "markdown",
   "metadata": {},
   "source": [
    "After all the cleaning, I shaped certain elements into data structures to be written to csv files. I utilized a Schema and Cerberus validation library to ensure that the transformed data is in the correct format.  "
   ]
  },
  {
   "cell_type": "markdown",
   "metadata": {},
   "source": [
    "###### Querying:"
   ]
  },
  {
   "cell_type": "markdown",
   "metadata": {},
   "source": [
    "After successfully converting the XML data to csv files, I used the sqlite3 module to create a Database. I created tables in this Database corresponding to each csv file. And then I had all the fun querying the tables !\n",
    "\n",
    "Once I had the csv files, I looked at the tables through Google spreadsheets. That also gave me a different perspective on the data."
   ]
  },
  {
   "cell_type": "markdown",
   "metadata": {},
   "source": [
    "###### Multi-language Issue :"
   ]
  },
  {
   "cell_type": "markdown",
   "metadata": {},
   "source": [
    "   Because of the many different languages spoken in this area, I see that many of the \"names\" are mentioned in tags with \"name\" in the key column as well as tags with \"name\" in the type column. Tags with \"name\" in the type column have the language code in the key column.\n",
    "\n",
    "   This has happened while shaping the elements to tabular format. While taking care of \"k\" attributes like \"addr:street\", \"addr:city\", \"ref:old\" and others with a colon, \"k\" attributes like \"name:en\", \"name:mr\" and few more, got their \"name\" part into the type column. "
   ]
  },
  {
   "cell_type": "markdown",
   "metadata": {},
   "source": [
    "###### Problems discovered after Querying : "
   ]
  },
  {
   "cell_type": "markdown",
   "metadata": {},
   "source": [
    "~ Querying postcodes shows that 2 postcodes : 560092 and 560103 do not belong to my chosen     area. They are from Bangalore which is far away in a different state of India.\n",
    "\n",
    "   Also postcodes like 43, 40081 and 4000607 make no sense.\n",
    "   \n",
    "~ I saw some schools, restaurants, shops mentioned without a name.  \n",
    "   \n",
    "\n",
    "~ I have mentioned other problems that I investigated in the Cleaning section above.\n",
    "\n"
   ]
  },
  {
   "cell_type": "markdown",
   "metadata": {},
   "source": [
    "###### Interesting Queries :"
   ]
  },
  {
   "cell_type": "markdown",
   "metadata": {},
   "source": [
    "* The ways_nodes_db table has a number of node_id's for each id, defining an area. The largest number of node_id's an id in my database has is 526. I cross checked with the ways_tags_db for that id, and found that it is a \"river\". The next few id's with large number of node_id's are, \"streams\", \"trunk highways\" and \"forest\".\n",
    "\n",
    "\n",
    "* Another query revealed that in this map area, there are 2 buildings with 32 levels, 1 building with 30 levels, 3 buildings with 27 levels, and rest of the buildings with 10 or less levels.\n",
    "\n",
    "\n",
    "* I could fetch the names of schools, hospitals, restaurants, shops and much more. Of course, I had to query for the names by referring to the key and type columns as mentioned above in the Multi-language issue."
   ]
  },
  {
   "cell_type": "markdown",
   "metadata": {},
   "source": [
    "###### Need more Data:"
   ]
  },
  {
   "cell_type": "markdown",
   "metadata": {},
   "source": [
    "^  The area that I chose is part of the Mumbai Metropolitan Region. While querying the postcodes, I realized that more data is available for the part that lies in the urban core, compared to the surrounding districts. This is demonstrated graphically in my script about querying. \n",
    "\n",
    "   Since I grew up in one of the surrounding districts of Mumbai, and there is not much data available from there, I could not find my street nor my school.\n",
    "\n",
    "^  Only 5-10 % of the users seem to be contributing to about 80 % of the data. I see this from the graph I plotted in the querying script."
   ]
  },
  {
   "cell_type": "markdown",
   "metadata": {
    "collapsed": true
   },
   "source": [
    "###### Data Statistics:"
   ]
  },
  {
   "cell_type": "markdown",
   "metadata": {},
   "source": [
    " File Sizes :\n",
    "\n",
    "    map...............79.2 MB\n",
    "    sample.osm........16.1 MB\n",
    "    osm.db............55 MB\n",
    "    nodes.csv.........31.2 MB\n",
    "    nodes_tags.csv....323 KB\n",
    "    ways.csv..........3.14 MB\n",
    "    ways_nodes.csv....10.3 MB\n",
    "    ways_tags.csv.....1.82 MB"
   ]
  },
  {
   "cell_type": "markdown",
   "metadata": {},
   "source": [
    "Number of unique users.......388"
   ]
  },
  {
   "cell_type": "markdown",
   "metadata": {},
   "source": [
    "Number of nodes in the data.....390109"
   ]
  },
  {
   "cell_type": "markdown",
   "metadata": {},
   "source": [
    "Number of ways in the data.....53951"
   ]
  },
  {
   "cell_type": "markdown",
   "metadata": {},
   "source": [
    "Total Number of :\n",
    "\n",
    "    Movie Theatres ---------> 8\n",
    "    Hospitals --------------> 58\n",
    "    Shops ------------------> 96\n",
    "    Restaurants ------------> 52\n",
    "    Schools ----------------> 71"
   ]
  },
  {
   "cell_type": "markdown",
   "metadata": {},
   "source": [
    "Five features represented by longest ways :\n",
    "      \n",
    "      River, Stream, Trunk Highway, Forest, Coastline "
   ]
  },
  {
   "cell_type": "markdown",
   "metadata": {
    "collapsed": true
   },
   "source": [
    "###### What I learned :"
   ]
  },
  {
   "cell_type": "markdown",
   "metadata": {},
   "source": [
    "I was a consumer when I was using Google Maps. With the OpenStreetMap project I think I am an insider now. I know how to retrieve a small piece of large data with an API request and store the XML Data. I know some of the possibilities of utilizing the data, it has made me curious. "
   ]
  },
  {
   "cell_type": "markdown",
   "metadata": {},
   "source": [
    "###### My Take on OSM :"
   ]
  },
  {
   "cell_type": "markdown",
   "metadata": {},
   "source": [
    "The OSM is a collaborative project. Thousands of volunteers all around the globe update the map. Data is collected and uploaded to the huge database. Then it is edited based on the editor's local knowledge.\n",
    "\n",
    "While studying my chosen area of OSM, I saw that some schools, shops have been placed on the map, but without a name. This type of \"incompleteness\" could be due to lack of knowledge by the editor. To bring more information to the data, more users are required.\n",
    "\n",
    "Also, I saw some \"inconsistencies\". For example, \"# 2556, E Block, Sahakarnagar, Sahakara Nagar, Near Childrens park, Next to Sathya Heritage\" is a value entered for the key:street. This looks like a complete address instead of street name. But only an editor with local knowledge would know which part of it is the street name.\n",
    "\n",
    "Similarly, a user with local knowledge would know that \"Golden Park\", \"mangeshi dham\" are not keys, but should be entered as \"v\" attributes.\n",
    "\n",
    "Where there are more users, there are more eyes to notice such defects. To bring in more users, I suggest following solutions :"
   ]
  },
  {
   "cell_type": "markdown",
   "metadata": {},
   "source": [
    "#### Solution 1 : Advertising."
   ]
  },
  {
   "cell_type": "markdown",
   "metadata": {},
   "source": [
    "###### Benefits :    "
   ]
  },
  {
   "cell_type": "markdown",
   "metadata": {},
   "source": [
    "Benefit 1 : As more people would come to know about the Project, more chance of people with    local knowledge contributing to the data and more chance of completing the data.\n",
    "        \n",
    "Benefit 2 : When more users find out about this free editable map, they will see some of the inconsistencies and remove it.        "
   ]
  },
  {
   "cell_type": "markdown",
   "metadata": {},
   "source": [
    "###### Anticipated Issues :    "
   ]
  },
  {
   "cell_type": "markdown",
   "metadata": {},
   "source": [
    "Issue 1 : Advertising costs money. The OSM is supported by the OpenStreetMap Foundation which is a non-profit organisation.\n",
    "        \n",
    "Issue 2 : Advertising is done by someone who benefits commercially by it. But OSM is a Project by us, the community.         "
   ]
  },
  {
   "cell_type": "markdown",
   "metadata": {},
   "source": [
    "So Advertising here would actually mean \"Spread The Word\"."
   ]
  },
  {
   "cell_type": "markdown",
   "metadata": {},
   "source": [
    "#### Solution 2 : Presence on Search Engines :"
   ]
  },
  {
   "cell_type": "markdown",
   "metadata": {},
   "source": [
    "###### Benefits :    "
   ]
  },
  {
   "cell_type": "markdown",
   "metadata": {},
   "source": [
    "Benefit 1 : This would increase the traffic to the OSM site. Naturally people will become aware of the fact that they can contribute too.\n",
    "        \n",
    "Benefit 2 : With more usage, the data will have more chance to be updated, and becoming accurate.        "
   ]
  },
  {
   "cell_type": "markdown",
   "metadata": {},
   "source": [
    "###### Anticipated Issues :    "
   ]
  },
  {
   "cell_type": "markdown",
   "metadata": {},
   "source": [
    "Issue 1 : Cost of hiring people for Search Engine Optimization. Changes have to be made and resubmitted to Search Engines.\n",
    "        \n",
    "Issue 2 : Get people linking to the Project website. WikiVoyage has links to OSM-based maps appear in the upper right corner of a destination article. More links like this would require more marketing.         "
   ]
  },
  {
   "cell_type": "markdown",
   "metadata": {},
   "source": [
    "\n",
    "This cost/benefit analysis should help make a balanced decision. AfterAll :\n",
    "\n",
    "OpenStreetMap is a map created by the people for the people !"
   ]
  }
 ],
 "metadata": {
  "kernelspec": {
   "display_name": "Python [default]",
   "language": "python",
   "name": "python3"
  },
  "language_info": {
   "codemirror_mode": {
    "name": "ipython",
    "version": 3
   },
   "file_extension": ".py",
   "mimetype": "text/x-python",
   "name": "python",
   "nbconvert_exporter": "python",
   "pygments_lexer": "ipython3",
   "version": "3.6.0"
  }
 },
 "nbformat": 4,
 "nbformat_minor": 2
}
